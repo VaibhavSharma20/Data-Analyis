{
 "cells": [
  {
   "cell_type": "code",
   "execution_count": 21,
   "id": "b231ec3b",
   "metadata": {},
   "outputs": [
    {
     "name": "stdout",
     "output_type": "stream",
     "text": [
      "[[26, 50, 14], [16, 27, 17], [11, 19, 20]]\n",
      "dof= 4\n",
      "[[23.85 43.2  22.95]\n",
      " [15.9  28.8  15.3 ]\n",
      " [13.25 24.   12.75]]\n",
      "\n",
      "critical value approach\n",
      "probability=0.950, critical=9.488, X^2=10.603\n",
      "Dependent - reject H0\n",
      "\n",
      "p-value approach\n",
      "significance=0.050, p=0.031\n",
      "Dependent - reject H0\n"
     ]
    }
   ],
   "source": [
    "from scipy.stats import chi2_contingency\n",
    "from scipy.stats import chi2\n",
    "\n",
    "data = [[26, 50, 14], [16, 27, 17], [11, 19, 20]]\n",
    "print(data)\n",
    "stat, p, dof, exp = chi2_contingency(data)\n",
    "print('dof=',dof)\n",
    "print(exp)\n",
    "prob = 0.95\n",
    "critical = chi2.ppf(prob, dof)\n",
    "\n",
    "print()\n",
    "print(\"critical value approach\")\n",
    "print('probability=%.3f, critical=%.3f, X^2=%.3f' % (prob, critical, stat))\n",
    "if abs(stat) >= critical:\n",
    "    print('Dependent - reject H0')\n",
    "else:\n",
    "    print('Independent - fail to reject H0')\n",
    "\n",
    "print()\n",
    "print(\"p-value approach\")\n",
    "alpha = 1.0 - prob\n",
    "print('significance=%.3f, p=%.3f' % (alpha, p))\n",
    "if p <= alpha:\n",
    "    print('Dependent - reject H0')\n",
    "else:\n",
    "    print('Independent - fail to reject H0')"
   ]
  },
  {
   "cell_type": "code",
   "execution_count": null,
   "id": "3994d72b",
   "metadata": {},
   "outputs": [],
   "source": []
  }
 ],
 "metadata": {
  "kernelspec": {
   "display_name": "Python 3",
   "language": "python",
   "name": "python3"
  },
  "language_info": {
   "codemirror_mode": {
    "name": "ipython",
    "version": 3
   },
   "file_extension": ".py",
   "mimetype": "text/x-python",
   "name": "python",
   "nbconvert_exporter": "python",
   "pygments_lexer": "ipython3",
   "version": "3.8.8"
  }
 },
 "nbformat": 4,
 "nbformat_minor": 5
}
