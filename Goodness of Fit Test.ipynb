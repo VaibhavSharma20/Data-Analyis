{
 "cells": [
  {
   "cell_type": "code",
   "execution_count": 4,
   "id": "fe05d18e",
   "metadata": {},
   "outputs": [
    {
     "name": "stdout",
     "output_type": "stream",
     "text": [
      "Reject H0\n"
     ]
    }
   ],
   "source": [
    "import scipy.stats as stats\n",
    "import numpy as np\n",
    "import pandas as pd\n",
    "\n",
    "exp = pd.DataFrame({\"number of customers\":[\"0-1\",\"2\",\"3\",\"4\",\"5\",\"6\",\"7\",\"8\",\"9 or more\"],\"observed\":[10,10,12,18,22,22,16,12,6]})\n",
    "lamb = exp.observed.mean()\n",
    "exp[\"expected\"] = np.random.poisson(lamb, len(exp))\n",
    "\n",
    "statistic,pval=stats.chisquare(f_obs=exp[\"observed\"], f_exp=exp[\"expected\"])\n",
    "\n",
    "if pval<=0.05:\n",
    "    print('Reject H0')\n",
    "else:\n",
    "    print('Fail to reject H0')"
   ]
  },
  {
   "cell_type": "code",
   "execution_count": 3,
   "id": "3b9ca779",
   "metadata": {},
   "outputs": [
    {
     "name": "stdout",
     "output_type": "stream",
     "text": [
      "chi2:  14.399999999999999\n",
      "p-value:  0.04450749951455079\n",
      "critical:  11.070497693516351\n",
      "Reject H0\n",
      "Reject H0\n"
     ]
    }
   ],
   "source": [
    "import numpy as np\n",
    "import pandas as pd\n",
    "import matplotlib.pyplot as plt\n",
    "import seaborn as sns\n",
    "from scipy import stats \n",
    "\n",
    "data = pd.read_csv(\"Q1.csv\")\n",
    "\n",
    "\n",
    "mean = np.mean(data['Observed2'])\n",
    "std = np.std(data['Observed2'])\n",
    "bins = 8\n",
    "interval = []\n",
    "for i in range(1,9):\n",
    "    val = stats.norm.ppf(i/bins, mean, std)\n",
    "    interval.append(val)\n",
    "\n",
    "interval.insert(0, -np.inf)\n",
    "\n",
    "df = pd.DataFrame({'lower_limit':interval[:-1], 'upper_limit':interval[1:]})\n",
    "\n",
    "life_values = list(sorted(data['Observed2']))\n",
    "df['obs_freq'] = df.apply(lambda x:sum([i>x['lower_limit'] and i<=x['upper_limit'] for i in life_values]), axis=1)\n",
    "df['exp_freq'] = 5\n",
    "\n",
    "chi2, pval = stats.chisquare(df['obs_freq'], df['exp_freq'])\n",
    "print(\"chi2: \", chi2)\n",
    "print(\"p-value: \", pval)\n",
    "\n",
    "p = 2\n",
    "DOF = len(df['obs_freq']) - p -1\n",
    "critical = stats.chi2.ppf(0.95, DOF)\n",
    "print(\"critical: \", critical)\n",
    "\n",
    "alpha = 0.05\n",
    "prob = 1 - alpha\n",
    "\n",
    "if pval <= alpha:\n",
    "    print(\"Reject H0\")\n",
    "else:\n",
    "    print(\"Fail to reject H0\")\n",
    "    \n",
    "if chi2 >= critical:\n",
    "    print(\"Reject H0\")\n",
    "else:\n",
    "    print(\"Do not reject H0\")"
   ]
  },
  {
   "cell_type": "code",
   "execution_count": null,
   "id": "9275e4f1",
   "metadata": {},
   "outputs": [],
   "source": []
  }
 ],
 "metadata": {
  "kernelspec": {
   "display_name": "Python 3",
   "language": "python",
   "name": "python3"
  },
  "language_info": {
   "codemirror_mode": {
    "name": "ipython",
    "version": 3
   },
   "file_extension": ".py",
   "mimetype": "text/x-python",
   "name": "python",
   "nbconvert_exporter": "python",
   "pygments_lexer": "ipython3",
   "version": "3.8.8"
  }
 },
 "nbformat": 4,
 "nbformat_minor": 5
}
