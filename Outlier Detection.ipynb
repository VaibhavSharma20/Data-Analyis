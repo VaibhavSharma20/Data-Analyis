{
 "cells": [
  {
   "cell_type": "code",
   "execution_count": 23,
   "id": "fe2a3d57",
   "metadata": {},
   "outputs": [
    {
     "name": "stdout",
     "output_type": "stream",
     "text": [
      "      X\n",
      "0    34\n",
      "1    54\n",
      "2    23\n",
      "3    23\n",
      "4    54\n",
      "5    67\n",
      "6    34\n",
      "7    12\n",
      "8    76\n",
      "9    89\n",
      "10   56\n",
      "11   33\n",
      "12   23\n",
      "13   18\n",
      "14   32\n",
      "15   52\n",
      "16   21\n",
      "17   21\n",
      "18   52\n",
      "19   65\n",
      "20   32\n",
      "21   10\n",
      "22   74\n",
      "23   87\n",
      "24   54\n",
      "25   31\n",
      "26   21\n",
      "27   16\n",
      "28   37\n",
      "29   57\n",
      "30   26\n",
      "31   26\n",
      "32   57\n",
      "33   70\n",
      "34   37\n",
      "35   15\n",
      "36   79\n",
      "37   92\n",
      "38   59\n",
      "39   36\n",
      "40   26\n",
      "41   21\n",
      "42   51\n",
      "43   71\n",
      "44   40\n",
      "45   40\n",
      "46   71\n",
      "47   84\n",
      "48   51\n",
      "49   29\n",
      "50   93\n",
      "51  106\n",
      "52   73\n",
      "53   50\n",
      "54   40\n",
      "55   35\n"
     ]
    },
    {
     "data": {
      "image/png": "[encoded data removed]",
      "text/plain": [
       "<Figure size 432x288 with 1 Axes>"
      ]
     },
     "metadata": {
      "needs_background": "light"
     },
     "output_type": "display_data"
    }
   ],
   "source": [
    "import pandas as pd\n",
    "import matplotlib.pyplot as plt\n",
    "import numpy as np\n",
    "from scipy import stats\n",
    "from scipy.stats import chi2\n",
    "\n",
    "data = pd.read_excel('data.xlsx', sheet_name = 'Sheet4')\n",
    "data.boxplot()\n",
    "print(data)\n"
   ]
  },
  {
   "cell_type": "code",
   "execution_count": 8,
   "id": "014c514f",
   "metadata": {},
   "outputs": [
    {
     "name": "stdout",
     "output_type": "stream",
     "text": [
      "[[-0.54644398]\n",
      " [ 0.28964517]\n",
      " [-1.006293  ]\n",
      " [-1.006293  ]\n",
      " [ 0.28964517]\n",
      " [ 0.83310311]\n",
      " [-0.54644398]\n",
      " [-1.46614203]\n",
      " [ 1.20934322]\n",
      " [ 1.75280117]\n",
      " [ 0.37325408]\n",
      " [-0.58824843]\n",
      " [-1.006293  ]\n",
      " [-1.21531529]\n",
      " [-0.63005289]\n",
      " [ 0.20603625]\n",
      " [-1.08990192]\n",
      " [-1.08990192]\n",
      " [ 0.20603625]\n",
      " [ 0.7494942 ]\n",
      " [-0.63005289]\n",
      " [-1.54975095]\n",
      " [ 1.12573431]\n",
      " [ 1.66919225]\n",
      " [ 0.28964517]\n",
      " [-0.67185735]\n",
      " [-1.08990192]\n",
      " [-1.2989242 ]\n",
      " [-0.4210306 ]\n",
      " [ 0.41505854]\n",
      " [-0.88087963]\n",
      " [-0.88087963]\n",
      " [ 0.41505854]\n",
      " [ 0.95851648]\n",
      " [-0.4210306 ]\n",
      " [-1.34072866]\n",
      " [ 1.3347566 ]\n",
      " [ 1.87821454]\n",
      " [ 0.49866745]\n",
      " [-0.46283506]\n",
      " [-0.88087963]\n",
      " [-1.08990192]\n",
      " [ 0.1642318 ]\n",
      " [ 1.00032094]\n",
      " [-0.29561723]\n",
      " [-0.29561723]\n",
      " [ 1.00032094]\n",
      " [ 1.54377888]\n",
      " [ 0.1642318 ]\n",
      " [-0.75546626]\n",
      " [ 1.920019  ]\n",
      " [ 2.46347694]\n",
      " [ 1.08392985]\n",
      " [ 0.12242734]\n",
      " [-0.29561723]\n",
      " [-0.50463952]]\n",
      "\n",
      " Outliers:\n",
      "No outliers\n"
     ]
    }
   ],
   "source": [
    "data = pd.read_excel('data.xlsx', sheet_name = 'Sheet4')\n",
    "z=stats.zscore(data)\n",
    "print (z)\n",
    "\n",
    "threshold = 3\n",
    "c=0\n",
    "print(\"\\n Outliers:\")\n",
    "for i in range(0,len(z)):\n",
    "    if z[i] > threshold:\n",
    "        print(z[i])\n",
    "        c=1\n",
    "if c == 0:\n",
    "    print(\"No outliers\")"
   ]
  },
  {
   "cell_type": "code",
   "execution_count": 29,
   "id": "fd19c3d1",
   "metadata": {},
   "outputs": [
    {
     "name": "stdout",
     "output_type": "stream",
     "text": [
      "   X    Y   Z  mahalanobis distance\n",
      "0  5   50  21              0.868966\n",
      "1  8   56  34              1.764545\n",
      "2  6   89  12              1.267364\n",
      "3  9   90  42              3.325720\n",
      "4  3   40  89              7.628523\n",
      "5  1  100  10              4.135320\n",
      "6  2  300  15              1.112493\n",
      "7  4  200  20              0.136488\n",
      "8  2  600  10              6.620618\n",
      "9  5  100  30              0.139962\n"
     ]
    },
    {
     "data": {
      "text/html": [
       "<div>\n",
       "<style scoped>\n",
       "    .dataframe tbody tr th:only-of-type {\n",
       "        vertical-align: middle;\n",
       "    }\n",
       "\n",
       "    .dataframe tbody tr th {\n",
       "        vertical-align: top;\n",
       "    }\n",
       "\n",
       "    .dataframe thead th {\n",
       "        text-align: right;\n",
       "    }\n",
       "</style>\n",
       "<table border=\"1\" class=\"dataframe\">\n",
       "  <thead>\n",
       "    <tr style=\"text-align: right;\">\n",
       "      <th></th>\n",
       "      <th>X</th>\n",
       "      <th>Y</th>\n",
       "      <th>Z</th>\n",
       "      <th>mahalanobis distance</th>\n",
       "      <th>p_value</th>\n",
       "    </tr>\n",
       "  </thead>\n",
       "  <tbody>\n",
       "  </tbody>\n",
       "</table>\n",
       "</div>"
      ],
      "text/plain": [
       "Empty DataFrame\n",
       "Columns: [X, Y, Z, mahalanobis distance, p_value]\n",
       "Index: []"
      ]
     },
     "execution_count": 29,
     "metadata": {},
     "output_type": "execute_result"
    }
   ],
   "source": [
    "import pandas as pd\n",
    "df_m=pd.read_excel('Mdata.xlsx', sheet_name = 'Sheet1')\n",
    "\n",
    "def mahalanobis(x=None, data=None, cov=None):\n",
    "    x_minus_mu=x-np.mean(data)\n",
    "    if not cov:\n",
    "        cov=np.cov(data.values.T)\n",
    "    inv_covmat=np.linalg.inv(cov)\n",
    "    left_term=np.dot(x_minus_mu,inv_covmat)\n",
    "    mahal=np.dot(left_term,x_minus_mu.T)\n",
    "    return mahal.diagonal()\n",
    "\n",
    "df_m2=df_m[['X','Y','Z']]\n",
    "df_m2['mahalanobis distance']=mahalanobis(x=df_m,data=df_m[['X','Y','Z']])\n",
    "print(df_m2)\n",
    "\n",
    "chi2.ppf((1-0.01),df=2)\n",
    "df_m2['p_value']=1-chi2.cdf(df_m2['mahalanobis distance'],2)\n",
    "df_m2.loc[df_m2.p_value<0.01]\n"
   ]
  },
  {
   "cell_type": "code",
   "execution_count": null,
   "id": "31fcc8b7",
   "metadata": {},
   "outputs": [],
   "source": []
  }
 ],
 "metadata": {
  "kernelspec": {
   "display_name": "Python 3",
   "language": "python",
   "name": "python3"
  },
  "language_info": {
   "codemirror_mode": {
    "name": "ipython",
    "version": 3
   },
   "file_extension": ".py",
   "mimetype": "text/x-python",
   "name": "python",
   "nbconvert_exporter": "python",
   "pygments_lexer": "ipython3",
   "version": "3.8.8"
  }
 },
 "nbformat": 4,
 "nbformat_minor": 5
}
